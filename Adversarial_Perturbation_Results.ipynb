{
  "cells": [
    {
      "cell_type": "markdown",
      "metadata": {
        "id": "view-in-github",
        "colab_type": "text"
      },
      "source": [
        "<a href=\"https://colab.research.google.com/github/SKKU-SecLab/MiningPerturbation/blob/main/Adversarial_Perturbation_Results.ipynb\" target=\"_parent\"><img src=\"https://colab.research.google.com/assets/colab-badge.svg\" alt=\"Open In Colab\"/></a>"
      ]
    },
    {
      "cell_type": "code",
      "execution_count": null,
      "metadata": {
        "colab": {
          "base_uri": "https://localhost:8080/"
        },
        "id": "MVvWb_b-nxVS",
        "outputId": "41d836e1-c291-4cc8-a160-76ba52d94a99"
      },
      "outputs": [
        {
          "output_type": "stream",
          "name": "stdout",
          "text": [
            "Drive already mounted at /content/drive; to attempt to forcibly remount, call drive.mount(\"/content/drive\", force_remount=True).\n"
          ]
        }
      ],
      "source": [
        "# from google.colab import drive\n",
        "# drive.mount('/content/drive')"
      ]
    },
    {
      "cell_type": "code",
      "execution_count": null,
      "metadata": {
        "id": "PJu2I_fNpJD1"
      },
      "outputs": [],
      "source": [
        "# !pip install tsfresh\n",
        "# !pip install scapy"
      ]
    },
    {
      "cell_type": "code",
      "execution_count": null,
      "metadata": {
        "id": "mZ1222PxocrK"
      },
      "outputs": [],
      "source": [
        "import pandas as pd\n",
        "import tsfresh\n",
        "import os\n",
        "import json\n",
        "import scapy\n",
        "import numpy as np\n",
        "import warnings\n",
        "from timeit import default_timer as timer\n",
        "from scapy.all import *\n",
        "\n",
        "import sys\n",
        "from pathlib import Path\n",
        "\n",
        "warnings.filterwarnings(\"ignore\") "
      ]
    },
    {
      "cell_type": "code",
      "source": [
        "def dataframe_from_csv(target):\n",
        "    return pd.read_csv(target).rename(columns=lambda x: x.strip())\n",
        "\n",
        "def dataframe_from_csvs(targets):\n",
        "    return pd.concat([dataframe_from_csv(x) for x in targets])"
      ],
      "metadata": {
        "id": "oiKP55kEcKlw"
      },
      "execution_count": null,
      "outputs": []
    },
    {
      "cell_type": "code",
      "execution_count": null,
      "metadata": {
        "id": "NuudVyVoo7Rr"
      },
      "outputs": [],
      "source": [
        "def run_process(a,b,x, changed_mal):\n",
        "    \n",
        "    df_malicious = a.copy()\n",
        "    df_benign    = b.copy()\n",
        "    \n",
        "    df_mal_web_mine = changed_mal.copy()\n",
        "\n",
        "    from tsfresh import extract_features, select_features\n",
        "    from tsfresh.utilities.dataframe_functions import impute\n",
        "    from tsfresh import extract_features\n",
        "    from tsfresh.feature_selection.relevance import calculate_relevance_table\n",
        "\n",
        "    df_malicious.reset_index(drop=True, inplace=True) #reset index\n",
        "    df_malicious['id']= np.floor(df_malicious.index.array/10)\n",
        "    df_benign.reset_index(drop=True, inplace=True) #reset index\n",
        "    df_benign['id']= np.floor(df_benign.index.array/10)\n",
        "\n",
        "    df_mal_web_mine.reset_index(drop=True, inplace=True) #reset index\n",
        "    df_mal_web_mine['id']= np.floor(df_mal_web_mine.index.array/10)\n",
        "    \n",
        "    tf1=tsfresh.extract_features(df_malicious,impute_function=impute, column_kind='Is_malicious',\n",
        "                                 column_id='id',column_sort=\"Time\",column_value = \"Length\")\n",
        "    tf1['class']= 1\n",
        "\n",
        "    tf2=tsfresh.extract_features(df_benign,impute_function=impute, column_kind='Is_malicious',\n",
        "                                 column_id='id',column_sort=\"Time\",column_value = \"Length\")\n",
        "    tf2['class']= 0\n",
        "\n",
        "    tf3=tsfresh.extract_features(df_mal_web_mine,impute_function=impute, column_kind='Is_malicious',\n",
        "                                 column_id='id',column_sort=\"Time\",column_value = \"Length\")\n",
        "    tf3['class']= 1\n",
        "\n",
        "    tf2.columns = tf1.columns\n",
        "    tf3.columns = tf1.columns\n",
        "\n",
        "    features=pd.concat([tf1,tf2])\n",
        "    features_changed_mal = pd.concat([tf3,tf2])\n",
        "\n",
        "    features2 = features.copy()\n",
        "    features_changed_mal2 = features_changed_mal.copy()\n",
        "\n",
        "    features2.reset_index(drop=True, inplace=True)\n",
        "    features_changed_mal2.reset_index(drop=True, inplace=True)\n",
        "\n",
        "    y = pd.Series(data = features2['class'], index=features2.index)\n",
        "    y_changed_mal = pd.Series(data = features_changed_mal2['class'], index=features_changed_mal2.index)\n",
        "\n",
        "    from tsfresh.examples import load_robot_execution_failures\n",
        "    from tsfresh import extract_features, select_features\n",
        "    from tsfresh.feature_selection.relevance import calculate_relevance_table\n",
        "\n",
        "    relevance_table = calculate_relevance_table(features2, y)\n",
        "    relevance_table = relevance_table[relevance_table.relevant]\n",
        "    relevance_table.sort_values(\"p_value\", inplace=True)\n",
        "    print(\"relevance_table \" , relevance_table.shape)\n",
        "    relevance_table_changed_mal = calculate_relevance_table(features_changed_mal2, y_changed_mal)\n",
        "    relevance_table_changed_mal = relevance_table_changed_mal[relevance_table_changed_mal.relevant]\n",
        "    relevance_table_changed_mal.sort_values(\"p_value\", inplace=True)\n",
        "    print(\"relevance_table_changed_mal \" , relevance_table_changed_mal.shape)\n",
        "\n",
        "    best_features = pd.DataFrame(relevance_table[relevance_table['p_value'] <= 0.05])\n",
        "    # print(\"best_features \" , best_features.shape)\n",
        "    # print(\"best_features features\" , best_features.feature)\n",
        "\n",
        "    mal_pktPlus_features = pd.DataFrame(relevance_table_changed_mal)\n",
        "\n",
        "    if (len(mal_pktPlus_features) >= len(best_features)):\n",
        "      mal_pktPlus_features = mal_pktPlus_features[:len(best_features)]\n",
        "    else:\n",
        "      best_features = best_features[:len(mal_pktPlus_features)]\n",
        "      # mal_pktPlus_features = pd.concat([mal_pktPlus_features, best_features[~best_features.feature.isin(mal_pktPlus_features.feature)]])\n",
        "      # mal_pktPlus_features = mal_pktPlus_features.iloc[:len(best_features)]\n",
        "    df_ML = pd.DataFrame()\n",
        "    df_ML_mal = pd.DataFrame()\n",
        "\n",
        "    for pkt in best_features:\n",
        "        df_ML[best_features.feature] = features[best_features.feature]\n",
        "        # df_ML_mal[best_features.feature] = features_changed_mal2[mal_pktPlus_features.feature]\n",
        "      \n",
        "    for pkt in mal_pktPlus_features:\n",
        "        df_ML_mal[mal_pktPlus_features.feature] = features_changed_mal2[mal_pktPlus_features.feature]\n",
        "    # mal_pktPlus_features.feature = relevance_table_changed_mal.feature\n",
        "\n",
        "    # print(\"mal_pktPlus_features \" , mal_pktPlus_features.shape)\n",
        "    # print(\"mal_pktPlus_features features\" , mal_pktPlus_features.feature)\n",
        "\n",
        "    # df_ML.columns = df_ML_mal.columns    \n",
        "\n",
        "    final = ML_Process(df_ML,x, df_ML_mal)\n",
        "\n",
        "    return final"
      ]
    },
    {
      "cell_type": "code",
      "execution_count": null,
      "metadata": {
        "id": "Rqqed0oNo_Io"
      },
      "outputs": [],
      "source": [
        "def ML_Process(df_ML,x, df_ML_mal):\n",
        "    df_results = x.copy() \n",
        "    print('let the ml starts')\n",
        "  \n",
        "    from sklearn import neighbors, metrics\n",
        "    from sklearn.preprocessing import LabelEncoder\n",
        "\n",
        "    #X = df_finalized[['Time', 'Length','Protocol']].values\n",
        "    X = df_ML.drop('class',axis=1).to_numpy()\n",
        "    X_mal = df_ML_mal.drop('class',axis=1).to_numpy()\n",
        "    #y = df_finalized[['Is_malicious']]\n",
        "    y = df_ML['class'].to_numpy()\n",
        "    y_mal = df_ML_mal['class'].to_numpy()\n",
        "\n",
        "    #print(X,y)\n",
        "    \n",
        "    # from sklearn.model_selection import train_test_split\n",
        "    Le = LabelEncoder()\n",
        "    for i in range(len(X[0])):\n",
        "        X[:, i] = Le.fit_transform(X[:, i])\n",
        "    for i in range(len(X_mal[0])):\n",
        "        X_mal[:, i] = Le.fit_transform(X_mal[:, i])\n",
        "    \n",
        "    # X_train, X_test, y_train, y_test = train_test_split(X, y, test_size=0.25, random_state=8675309)\n",
        "    X_train = X\n",
        "    y_train = y\n",
        "    X_test = X_mal\n",
        "    y_test = y_mal\n",
        "\n",
        "    from sklearn.svm import SVC\n",
        "    from sklearn import model_selection\n",
        "    from sklearn.utils import class_weight\n",
        "    from sklearn.metrics import classification_report\n",
        "    from sklearn.metrics import confusion_matrix\n",
        "    import numpy as np\n",
        "    import pandas as pd\n",
        "    y_train = y_train.ravel()\n",
        "    dfs = []\n",
        "    models = [\n",
        "          ('SVM', SVC()), ##### Tekiner et al., SVM performs the best among all the classifiers in terms of all metrics\n",
        "            ]\n",
        "    results = []\n",
        "    names = []\n",
        "    scoring = ['accuracy', 'precision_weighted', 'recall_weighted', 'f1_weighted', 'roc_auc']\n",
        "    target_names = ['malignant', 'benign']\n",
        "    for name, model in models:\n",
        "        kfold = model_selection.KFold(n_splits=5, shuffle=True, random_state=None)\n",
        "        cv_results = model_selection.cross_validate(model, X_train, y_train, cv=kfold, \n",
        "                                                    scoring=scoring)\n",
        "        clf = model.fit(X_train, y_train)\n",
        "        y_pred = clf.predict(X_test)\n",
        "        print(name)\n",
        "        print(classification_report(y_test, y_pred, target_names=target_names))\n",
        "        results.append(cv_results)\n",
        "        names.append(name)\n",
        "        this_df = pd.DataFrame(cv_results)\n",
        "        this_df['model'] = name\n",
        "        dfs.append(this_df)\n",
        "        df_resulta = df_results.append(dfs)\n",
        "        final = pd.concat(dfs, ignore_index=True)\n",
        "        \n",
        "    return(final)"
      ]
    },
    {
      "cell_type": "code",
      "source": [
        "def insertion(df, interval):\n",
        "  df.reset_index(drop=True)\n",
        "  timeline = df['Time'].astype(int).unique()\n",
        "  insert_packet = pd.DataFrame([['Time', 'sip', 'dip', 'proto', 74, 'hw_src', 'hw_dst', 1]], columns = df_malicious.columns)\n",
        "\n",
        "  for i in range(len(timeline)):\n",
        "    if ((timeline[i] % interval) == 0):\n",
        "      insert_packet['Time'] = timeline[i]\n",
        "      df = pd.concat([df, insert_packet], ignore_index = True)"
      ],
      "metadata": {
        "id": "mgtwYSPNY-ou"
      },
      "execution_count": null,
      "outputs": []
    },
    {
      "cell_type": "code",
      "source": [
        "def fragment_man(df, split_val):\n",
        "  split = pd.DataFrame(columns = df.columns)\n",
        "  split_value = split_val\n",
        "\n",
        "  for i in range(len(df)):\n",
        "    if (df['Length'].iloc[i] > split_value):\n",
        "      df['Length'].iloc[i] = split_value\n",
        "      for j in range((df['Length'].iloc[i].astype(int) // split_value)):\n",
        "        df = df.append(df.iloc[i], ignore_index = True)"
      ],
      "metadata": {
        "id": "CCcWIt2BY-io"
      },
      "execution_count": null,
      "outputs": []
    },
    {
      "cell_type": "markdown",
      "source": [
        "##### PERTURBATION (Single Method)"
      ],
      "metadata": {
        "id": "y6Sevf-4D80_"
      }
    },
    {
      "cell_type": "code",
      "source": [
        "### DUMMY PACKET\n",
        "df_malicious = pd.read_csv('./attacked_data/conventional_malicious_traffic.csv', index_col = [0])\n",
        "df_benign = pd.read_csv('./attacked_data/benign_traffic.csv', index_col = [0])\n",
        "df_mal_web_mine = pd.read_csv('./attacked_data/single_method/dummy_packet.csv', index_col = [0])\n",
        "\n",
        "print(\"{} NAN in malicious\".format(len(df_malicious[df_malicious.isna().any(axis=1)])))\n",
        "print(\"{} NAN in benign\".format(len(df_benign[df_benign.isna().any(axis=1)])))\n",
        "\n",
        "df_malicious = df_malicious.dropna()\n",
        "df_benign = df_benign.dropna()\n",
        "\n",
        "start = timer()\n",
        "results_Raspberry_s1 = run_process(df_malicious,df_benign,df_results, df_mal_web_mine)\n",
        "end = timer()\n",
        "print(end - start)"
      ],
      "metadata": {
        "colab": {
          "base_uri": "https://localhost:8080/"
        },
        "id": "s6XWMBpGCQV4",
        "outputId": "5e98a7bf-6c85-4b72-9b4e-3051a5991690"
      },
      "execution_count": null,
      "outputs": [
        {
          "output_type": "stream",
          "name": "stdout",
          "text": [
            "0 NAN in malicious\n",
            "0 NAN in benign\n"
          ]
        },
        {
          "output_type": "stream",
          "name": "stderr",
          "text": [
            "Feature Extraction: 100%|██████████| 20/20 [01:16<00:00,  3.81s/it]\n",
            "Feature Extraction: 100%|██████████| 20/20 [01:01<00:00,  3.06s/it]\n",
            "Feature Extraction: 100%|██████████| 20/20 [01:00<00:00,  3.04s/it]\n"
          ]
        },
        {
          "output_type": "stream",
          "name": "stdout",
          "text": [
            "relevance_table  (255, 4)\n",
            "relevance_table_changed_mal  (251, 4)\n",
            "let the ml starts\n",
            "SVM\n",
            "              precision    recall  f1-score   support\n",
            "\n",
            "   malignant       0.50      1.00      0.67      6260\n",
            "      benign       0.00      0.00      0.00      6186\n",
            "\n",
            "    accuracy                           0.50     12446\n",
            "   macro avg       0.25      0.50      0.33     12446\n",
            "weighted avg       0.25      0.50      0.34     12446\n",
            "\n",
            "285.06597892900004\n"
          ]
        }
      ]
    },
    {
      "cell_type": "code",
      "source": [
        "### PADDING\n",
        "df_malicious = pd.read_csv('./attacked_data/conventional_malicious_traffic.csv', index_col = [0])\n",
        "df_benign = pd.read_csv('./attacked_data/benign_traffic.csv', index_col = [0])\n",
        "df_mal_web_mine = pd.read_csv('./attacked_data/single_method/padding.csv', index_col = [0])\n",
        "\n",
        "print(\"{} NAN in malicious\".format(len(df_malicious[df_malicious.isna().any(axis=1)])))\n",
        "print(\"{} NAN in benign\".format(len(df_benign[df_benign.isna().any(axis=1)])))\n",
        "\n",
        "df_malicious = df_malicious.dropna()\n",
        "df_benign = df_benign.dropna()\n",
        "\n",
        "start = timer()\n",
        "results_Raspberry_s1 = run_process(df_malicious,df_benign,df_results, df_mal_web_mine)\n",
        "end = timer()\n",
        "print(end - start)"
      ],
      "metadata": {
        "colab": {
          "base_uri": "https://localhost:8080/"
        },
        "id": "J0nUo-gADP4q",
        "outputId": "6812b8b7-5a26-4203-95ed-c16966acc14f"
      },
      "execution_count": null,
      "outputs": [
        {
          "output_type": "stream",
          "name": "stdout",
          "text": [
            "0 NAN in malicious\n",
            "0 NAN in benign\n"
          ]
        },
        {
          "output_type": "stream",
          "name": "stderr",
          "text": [
            "Feature Extraction: 100%|██████████| 20/20 [00:52<00:00,  2.64s/it]\n",
            "Feature Extraction: 100%|██████████| 20/20 [01:01<00:00,  3.08s/it]\n",
            "Feature Extraction: 100%|██████████| 20/20 [00:54<00:00,  2.71s/it]\n"
          ]
        },
        {
          "output_type": "stream",
          "name": "stdout",
          "text": [
            "relevance_table  (255, 4)\n",
            "relevance_table_changed_mal  (258, 4)\n",
            "let the ml starts\n",
            "SVM\n",
            "              precision    recall  f1-score   support\n",
            "\n",
            "   malignant       0.51      0.99      0.67      6260\n",
            "      benign       0.64      0.02      0.04      6055\n",
            "\n",
            "    accuracy                           0.51     12315\n",
            "   macro avg       0.58      0.51      0.36     12315\n",
            "weighted avg       0.58      0.51      0.36     12315\n",
            "\n",
            "258.4959546320001\n"
          ]
        }
      ]
    },
    {
      "cell_type": "code",
      "source": [
        "### SPLITTING\n",
        "df_malicious = pd.read_csv('./attacked_data/conventional_malicious_traffic.csv', index_col = [0])\n",
        "df_benign = pd.read_csv('./attacked_data/benign_traffic.csv', index_col = [0])\n",
        "df_mal_web_mine = pd.read_csv('./attacked_data/single_method/splitting.csv', index_col = [0])\n",
        "\n",
        "print(\"{} NAN in malicious\".format(len(df_malicious[df_malicious.isna().any(axis=1)])))\n",
        "print(\"{} NAN in benign\".format(len(df_benign[df_benign.isna().any(axis=1)])))\n",
        "\n",
        "df_malicious = df_malicious.dropna()\n",
        "df_benign = df_benign.dropna()\n",
        "\n",
        "start = timer()\n",
        "results_Raspberry_s1 = run_process(df_malicious,df_benign,df_results, df_mal_web_mine)\n",
        "end = timer()\n",
        "print(end - start)"
      ],
      "metadata": {
        "colab": {
          "base_uri": "https://localhost:8080/"
        },
        "id": "zQDI1cQSDX2K",
        "outputId": "f2083de9-83bd-483f-a935-ca2f6d7435c0"
      },
      "execution_count": null,
      "outputs": [
        {
          "output_type": "stream",
          "name": "stdout",
          "text": [
            "0 NAN in malicious\n",
            "0 NAN in benign\n"
          ]
        },
        {
          "output_type": "stream",
          "name": "stderr",
          "text": [
            "Feature Extraction: 100%|██████████| 20/20 [00:57<00:00,  2.86s/it]\n",
            "Feature Extraction: 100%|██████████| 20/20 [00:52<00:00,  2.60s/it]\n",
            "Feature Extraction: 100%|██████████| 20/20 [01:02<00:00,  3.14s/it]\n"
          ]
        },
        {
          "output_type": "stream",
          "name": "stdout",
          "text": [
            "relevance_table  (255, 4)\n",
            "relevance_table_changed_mal  (260, 4)\n",
            "let the ml starts\n",
            "SVM\n",
            "              precision    recall  f1-score   support\n",
            "\n",
            "   malignant       0.48      1.00      0.65      6260\n",
            "      benign       0.00      0.00      0.00      6858\n",
            "\n",
            "    accuracy                           0.48     13118\n",
            "   macro avg       0.24      0.50      0.32     13118\n",
            "weighted avg       0.23      0.48      0.31     13118\n",
            "\n",
            "264.5656621569997\n"
          ]
        }
      ]
    },
    {
      "cell_type": "code",
      "source": [
        "### OBFS4 PROXY\n",
        "df_malicious = pd.read_csv('./attacked_data/conventional_malicious_traffic.csv', index_col = [0])\n",
        "df_benign = pd.read_csv('./attacked_data/benign_traffic.csv', index_col = [0])\n",
        "df_mal_web_mine = pd.read_csv('./attacked_data/single_method/obfs4_mining.csv', index_col = [0])\n",
        "\n",
        "print(\"{} NAN in malicious\".format(len(df_malicious[df_malicious.isna().any(axis=1)])))\n",
        "print(\"{} NAN in benign\".format(len(df_benign[df_benign.isna().any(axis=1)])))\n",
        "\n",
        "df_malicious = df_malicious.dropna()\n",
        "df_benign = df_benign.dropna()\n",
        "\n",
        "start = timer()\n",
        "results_Raspberry_s1 = run_process(df_malicious,df_benign,df_results, df_mal_web_mine)\n",
        "end = timer()\n",
        "print(end - start)"
      ],
      "metadata": {
        "colab": {
          "base_uri": "https://localhost:8080/"
        },
        "id": "30RJ7xapDX-v",
        "outputId": "14677fb6-7e76-48d5-ce6b-8fbb98674705"
      },
      "execution_count": null,
      "outputs": [
        {
          "output_type": "stream",
          "name": "stdout",
          "text": [
            "0 NAN in malicious\n",
            "0 NAN in benign\n"
          ]
        },
        {
          "output_type": "stream",
          "name": "stderr",
          "text": [
            "Feature Extraction: 100%|██████████| 20/20 [00:59<00:00,  2.98s/it]\n",
            "Feature Extraction: 100%|██████████| 20/20 [01:02<00:00,  3.12s/it]\n",
            "Feature Extraction: 100%|██████████| 20/20 [00:52<00:00,  2.65s/it]\n"
          ]
        },
        {
          "output_type": "stream",
          "name": "stdout",
          "text": [
            "relevance_table  (255, 4)\n",
            "relevance_table_changed_mal  (258, 4)\n",
            "let the ml starts\n",
            "SVM\n",
            "              precision    recall  f1-score   support\n",
            "\n",
            "   malignant       0.50      1.00      0.67      6260\n",
            "      benign       0.00      0.00      0.00      6305\n",
            "\n",
            "    accuracy                           0.50     12565\n",
            "   macro avg       0.25      0.50      0.33     12565\n",
            "weighted avg       0.25      0.50      0.33     12565\n",
            "\n",
            "262.9792159140002\n"
          ]
        }
      ]
    },
    {
      "cell_type": "markdown",
      "source": [
        "##### PERTURBATION (Combination)"
      ],
      "metadata": {
        "id": "4KThueTiHUYw"
      }
    },
    {
      "cell_type": "code",
      "source": [
        "### DUMMY PACKET & PADDING\n",
        "df_malicious = pd.read_csv('./attacked_data/conventional_malicious_traffic.csv', index_col = [0])\n",
        "df_benign = pd.read_csv('./attacked_data/benign_traffic.csv', index_col = [0])\n",
        "df_mal_web_mine = pd.read_csv('./attacked_data/combining_2_method/dummy_packet_padding.csv', index_col=[0])\n",
        "\n",
        "df_mal_web_mine.reset_index(drop=True)\n",
        "\n",
        "print(\"{} NAN in malicious\".format(len(df_malicious[df_malicious.isna().any(axis=1)])))\n",
        "print(\"{} NAN in benign\".format(len(df_benign[df_benign.isna().any(axis=1)])))\n",
        "\n",
        "df_malicious = df_malicious.dropna()\n",
        "df_benign = df_benign.dropna()\n",
        "\n",
        "start = timer()\n",
        "results_Raspberry_s1 = run_process(df_malicious,df_benign,df_results, df_mal_web_mine)\n",
        "end = timer()"
      ],
      "metadata": {
        "colab": {
          "base_uri": "https://localhost:8080/"
        },
        "id": "xAEBPf6VHTTh",
        "outputId": "a495a839-39d0-4a6c-bc40-a6fdc6fc7157"
      },
      "execution_count": null,
      "outputs": [
        {
          "output_type": "stream",
          "name": "stdout",
          "text": [
            "0 NAN in malicious\n",
            "0 NAN in benign\n"
          ]
        },
        {
          "output_type": "stream",
          "name": "stderr",
          "text": [
            "Feature Extraction: 100%|██████████| 20/20 [01:04<00:00,  3.20s/it]\n",
            "Feature Extraction: 100%|██████████| 20/20 [01:02<00:00,  3.14s/it]\n",
            "Feature Extraction: 100%|██████████| 20/20 [00:52<00:00,  2.62s/it]\n"
          ]
        },
        {
          "output_type": "stream",
          "name": "stdout",
          "text": [
            "relevance_table  (255, 4)\n",
            "relevance_table_changed_mal  (251, 4)\n",
            "let the ml starts\n",
            "SVM\n",
            "              precision    recall  f1-score   support\n",
            "\n",
            "   malignant       0.50      1.00      0.67      6260\n",
            "      benign       0.00      0.00      0.00      6186\n",
            "\n",
            "    accuracy                           0.50     12446\n",
            "   macro avg       0.25      0.50      0.33     12446\n",
            "weighted avg       0.25      0.50      0.34     12446\n",
            "\n"
          ]
        }
      ]
    },
    {
      "cell_type": "code",
      "source": [
        "### DUMMY PACKET & SPLITTING\n",
        "df_malicious = pd.read_csv('./attacked_data/conventional_malicious_traffic.csv', index_col = [0])\n",
        "df_benign = pd.read_csv('./attacked_data/benign_traffic.csv', index_col = [0])\n",
        "df_mal_web_mine = pd.read_csv('./attacked_data/combining_2_method/dummy_packet_splitting.csv', index_col = [0])\n",
        "\n",
        "df_mal_web_mine.reset_index(drop=True)\n",
        "\n",
        "print(\"{} NAN in malicious\".format(len(df_malicious[df_malicious.isna().any(axis=1)])))\n",
        "print(\"{} NAN in benign\".format(len(df_benign[df_benign.isna().any(axis=1)])))\n",
        "\n",
        "df_malicious = df_malicious.dropna()\n",
        "df_benign = df_benign.dropna()\n",
        "\n",
        "start = timer()\n",
        "results_Raspberry_s1 = run_process(df_malicious,df_benign,df_results, df_mal_web_mine)\n",
        "end = timer()"
      ],
      "metadata": {
        "colab": {
          "base_uri": "https://localhost:8080/"
        },
        "id": "SxeaAXM8OThR",
        "outputId": "a56fd022-27c6-4452-cefe-6b6ed930e7d8"
      },
      "execution_count": null,
      "outputs": [
        {
          "output_type": "stream",
          "name": "stdout",
          "text": [
            "0 NAN in malicious\n",
            "0 NAN in benign\n"
          ]
        },
        {
          "output_type": "stream",
          "name": "stderr",
          "text": [
            "Feature Extraction: 100%|██████████| 20/20 [01:00<00:00,  3.05s/it]\n",
            "Feature Extraction: 100%|██████████| 20/20 [00:52<00:00,  2.63s/it]\n",
            "Feature Extraction: 100%|██████████| 20/20 [00:55<00:00,  2.76s/it]\n"
          ]
        },
        {
          "output_type": "stream",
          "name": "stdout",
          "text": [
            "relevance_table  (255, 4)\n",
            "relevance_table_changed_mal  (261, 4)\n",
            "let the ml starts\n",
            "SVM\n",
            "              precision    recall  f1-score   support\n",
            "\n",
            "   malignant       0.49      1.00      0.66      6260\n",
            "      benign       0.00      0.00      0.00      6436\n",
            "\n",
            "    accuracy                           0.49     12696\n",
            "   macro avg       0.25      0.50      0.33     12696\n",
            "weighted avg       0.24      0.49      0.33     12696\n",
            "\n"
          ]
        }
      ]
    },
    {
      "cell_type": "code",
      "source": [
        "### PADDING & SPLITTING\n",
        "df_malicious = pd.read_csv('./attacked_data/conventional_malicious_traffic.csv', index_col = [0])\n",
        "df_benign = pd.read_csv('./attacked_data/benign_traffic.csv', index_col = [0])\n",
        "df_mal_web_mine = pd.read_csv('./attacked_data/combining_2_method/padding_splitting.csv', index_col = [0])\n",
        "\n",
        "df_mal_web_mine.reset_index(drop=True)\n",
        "\n",
        "print(\"{} NAN in malicious\".format(len(df_malicious[df_malicious.isna().any(axis=1)])))\n",
        "print(\"{} NAN in benign\".format(len(df_benign[df_benign.isna().any(axis=1)])))\n",
        "\n",
        "df_malicious = df_malicious.dropna()\n",
        "df_benign = df_benign.dropna()\n",
        "\n",
        "start = timer()\n",
        "results_Raspberry_s1 = run_process(df_malicious,df_benign,df_results, df_mal_web_mine)\n",
        "end = timer()"
      ],
      "metadata": {
        "colab": {
          "base_uri": "https://localhost:8080/"
        },
        "id": "1qUhcYKfluGt",
        "outputId": "0a780011-fda2-4d16-c0d6-3c55aa69a473"
      },
      "execution_count": null,
      "outputs": [
        {
          "output_type": "stream",
          "name": "stdout",
          "text": [
            "0 NAN in malicious\n",
            "0 NAN in benign\n"
          ]
        },
        {
          "output_type": "stream",
          "name": "stderr",
          "text": [
            "Feature Extraction: 100%|██████████| 20/20 [01:02<00:00,  3.10s/it]\n",
            "Feature Extraction: 100%|██████████| 20/20 [00:52<00:00,  2.61s/it]\n",
            "Feature Extraction: 100%|██████████| 20/20 [01:02<00:00,  3.12s/it]\n"
          ]
        },
        {
          "output_type": "stream",
          "name": "stdout",
          "text": [
            "relevance_table  (255, 4)\n",
            "relevance_table_changed_mal  (262, 4)\n",
            "let the ml starts\n",
            "SVM\n",
            "              precision    recall  f1-score   support\n",
            "\n",
            "   malignant       0.50      1.00      0.67      6260\n",
            "      benign       0.00      0.00      0.00      6305\n",
            "\n",
            "    accuracy                           0.50     12565\n",
            "   macro avg       0.25      0.50      0.33     12565\n",
            "weighted avg       0.25      0.50      0.33     12565\n",
            "\n"
          ]
        }
      ]
    },
    {
      "cell_type": "code",
      "source": [
        "### DUMMY PACKET & PADDING & SPLITTING\n",
        "df_malicious = pd.read_csv('./attacked_data/conventional_malicious_traffic.csv', index_col = [0])\n",
        "df_benign = pd.read_csv('./attacked_data/benign_traffic.csv', index_col = [0])\n",
        "df_mal_web_mine = pd.read_csv('./attacked_data/combining_2_method/dummy_packet_padding_splitting.csv',index_col = [0])\n",
        "\n",
        "df_mal_web_mine.reset_index(drop=True)\n",
        "\n",
        "print(\"{} NAN in malicious\".format(len(df_malicious[df_malicious.isna().any(axis=1)])))\n",
        "print(\"{} NAN in benign\".format(len(df_benign[df_benign.isna().any(axis=1)])))\n",
        "\n",
        "df_malicious = df_malicious.dropna()\n",
        "df_benign = df_benign.dropna()\n",
        "\n",
        "start = timer()\n",
        "results_Raspberry_s1 = run_process(df_malicious,df_benign,df_results, df_mal_web_mine)\n",
        "end = timer()"
      ],
      "metadata": {
        "colab": {
          "base_uri": "https://localhost:8080/"
        },
        "id": "j4W2whhvNagV",
        "outputId": "fe2c87c3-1780-49c5-a906-cf8ea3f7dc54"
      },
      "execution_count": null,
      "outputs": [
        {
          "output_type": "stream",
          "name": "stdout",
          "text": [
            "0 NAN in malicious\n",
            "0 NAN in benign\n"
          ]
        },
        {
          "output_type": "stream",
          "name": "stderr",
          "text": [
            "Feature Extraction: 100%|██████████| 20/20 [00:57<00:00,  2.89s/it]\n",
            "Feature Extraction: 100%|██████████| 20/20 [00:59<00:00,  2.99s/it]\n",
            "Feature Extraction: 100%|██████████| 20/20 [01:27<00:00,  4.37s/it]\n"
          ]
        },
        {
          "output_type": "stream",
          "name": "stdout",
          "text": [
            "relevance_table  (255, 4)\n",
            "relevance_table_changed_mal  (266, 4)\n",
            "let the ml starts\n",
            "SVM\n",
            "              precision    recall  f1-score   support\n",
            "\n",
            "   malignant       0.38      1.00      0.56      6260\n",
            "      benign       0.00      0.00      0.00     10012\n",
            "\n",
            "    accuracy                           0.38     16272\n",
            "   macro avg       0.19      0.50      0.28     16272\n",
            "weighted avg       0.15      0.38      0.21     16272\n",
            "\n"
          ]
        }
      ]
    },
    {
      "cell_type": "code",
      "execution_count": null,
      "metadata": {
        "id": "CaUl_0qeDtsC"
      },
      "outputs": [],
      "source": [
        "# benign_data = sorted([x for x in Path(\"/content/drive/MyDrive/src/datasets/IoT Cryptojacking paper/benign-2/Raspberry\").glob(\"*.csv\")])# ------------------ Check\n",
        "# benign = dataframe_from_csvs(benign_data)"
      ]
    },
    {
      "cell_type": "code",
      "execution_count": null,
      "metadata": {
        "id": "T9bV4360LYeK"
      },
      "outputs": [],
      "source": [
        "# df_benign_add = pd.read_csv('/content/drive/MyDrive/src/datasets/Cryptojacking/RASP/benign/for_tsfresh_benign.csv')\n",
        "# df_benign_add2 = pd.read_csv('/content/drive/MyDrive/src/datasets/Cryptojacking/RASP/benign/benign_webbrowsing.csv')\n",
        "# df_mal_thr50_1 = pd.read_csv('/content/drive/MyDrive/src/datasets/Cryptojacking/RASP/throttle50/50_1/for_tsfresh_moneromine_50_1.csv')\n",
        "# df_mal_thr50_2 = pd.read_csv('/content/drive/MyDrive/src/datasets/Cryptojacking/RASP/throttle50/50_2/for_tsfrsh_moneromine_50_2.csv')\n",
        "# df_mal_thr100 = pd.read_csv('/content/drive/MyDrive/src/datasets/Cryptojacking/RASP/throttle100/for_tsfresh_moneromine_100.csv')\n",
        "# df_mal_obfs4 = pd.read_csv('/content/drive/MyDrive/src/datasets/Cryptojacking/obfs4_mining.csv')\n",
        "\n",
        "# print(\"df_benign_add -->> {}\".format(len(df_benign_add)))\n",
        "# print(\"df_benign_add2 -->> {}\".format(len(df_benign_add2)))\n",
        "# print(\"df_mal_thr50_1 -->> {}\".format(len(df_mal_thr50_1)))\n",
        "# print(\"df_mal_thr50_2 -->> {}\".format(len(df_mal_thr50_2)))\n",
        "# print(\"df_mal_thr100 -->> {}\".format(len(df_mal_thr100)))\n",
        "# print(\"df_mal_obfs4 -->> {}\".format(len(df_mal_obfs4)))\n",
        "\n",
        "# df_benign_add.columns = ['Time', 'Length']\n",
        "# df_benign_add2.columns = ['Time', 'Length']\n",
        "# df_mal_thr50_1.columns = ['Time', 'Length']\n",
        "# df_mal_thr50_2.columns = ['Time', 'Length']\n",
        "# df_mal_thr100.columns = ['Time', 'Length']\n",
        "# df_mal_obfs4.columns = ['Time', 'Length']\n",
        "\n",
        "# df_benign_add.insert(2, \"Is_malicious\", 0)\n",
        "# df_benign_add2.insert(2, \"Is_malicious\", 0)\n",
        "# df_mal_thr50_1.insert(2, \"Is_malicious\", 1)\n",
        "# df_mal_thr50_2.insert(2, \"Is_malicious\", 1)\n",
        "# df_mal_thr100.insert(2, \"Is_malicious\", 1)\n",
        "# df_mal_obfs4.insert(2, \"Is_malicious\", 1)\n",
        "\n",
        "# print(\"df_benign_add -->> {}\".format(len(df_benign_add.dropna())))\n",
        "# print(\"df_benign_add2 -->> {}\".format(len(df_benign_add2.dropna())))\n",
        "# print(\"df_mal_thr50_1 -->> {}\".format(len(df_mal_thr50_1.dropna())))\n",
        "# print(\"df_mal_thr50_2 -->> {}\".format(len(df_mal_thr50_2.dropna())))\n",
        "# print(\"df_mal_thr100 -->> {}\".format(len(df_mal_thr100.dropna())))\n",
        "# print(\"df_mal_obfs4 -->> {}\".format(len(df_mal_obfs4.dropna())))"
      ]
    },
    {
      "cell_type": "code",
      "source": [
        "### OBFS4 PROXY & DUMMY PACKET\n",
        "\n",
        "df_malicious = pd.read_csv('./attacked_data/conventional_malicious_traffic2.csv', index_col = [0])\n",
        "df_benign = pd.read_csv('./attacked_data/benign_traffic2.csv', index_col = [0])\n",
        "df_mal_web_mine = pd.read_csv('./attacked_data/combining_2_method/dummy_packet_obfs4.csv', index_col = [0])\n",
        "\n",
        "df_mal_web_mine.reset_index(drop=True)\n",
        "\n",
        "print(\"{} NAN in malicious\".format(len(df_malicious[df_malicious.isna().any(axis=1)])))\n",
        "print(\"{} NAN in benign\".format(len(df_benign[df_benign.isna().any(axis=1)])))\n",
        "\n",
        "df_malicious = df_malicious.dropna()\n",
        "df_benign = df_benign.dropna()\n",
        "\n",
        "start = timer()\n",
        "results_Raspberry_s1 = run_process(df_malicious,df_benign,df_results, df_mal_web_mine)\n",
        "end = timer()"
      ],
      "metadata": {
        "colab": {
          "base_uri": "https://localhost:8080/"
        },
        "id": "4_NpE3U7dHEQ",
        "outputId": "5ee1364b-d98f-4305-c68f-a60f41403a81"
      },
      "execution_count": null,
      "outputs": [
        {
          "output_type": "stream",
          "name": "stdout",
          "text": [
            "0 NAN in malicious\n",
            "0 NAN in benign\n"
          ]
        },
        {
          "output_type": "stream",
          "name": "stderr",
          "text": [
            "Feature Extraction: 100%|██████████| 20/20 [00:55<00:00,  2.78s/it]\n",
            "Feature Extraction: 100%|██████████| 20/20 [00:57<00:00,  2.86s/it]\n",
            "Feature Extraction: 100%|██████████| 20/20 [01:03<00:00,  3.19s/it]\n"
          ]
        },
        {
          "output_type": "stream",
          "name": "stdout",
          "text": [
            "relevance_table  (247, 4)\n",
            "relevance_table_changed_mal  (241, 4)\n",
            "let the ml starts\n",
            "SVM\n",
            "              precision    recall  f1-score   support\n",
            "\n",
            "   malignant       0.47      1.00      0.64      6701\n",
            "      benign       0.00      0.00      0.00      7540\n",
            "\n",
            "    accuracy                           0.47     14241\n",
            "   macro avg       0.24      0.50      0.32     14241\n",
            "weighted avg       0.22      0.47      0.30     14241\n",
            "\n"
          ]
        }
      ]
    },
    {
      "cell_type": "code",
      "source": [
        "### OBFS4 PROXY & PADDING\n",
        "\n",
        "df_malicious = pd.read_csv('./attacked_data/conventional_malicious_traffic2.csv', index_col = [0])\n",
        "df_benign = pd.read_csv('./attacked_data/benign_traffic2.csv', index_col = [0])\n",
        "\n",
        "df_mal_web_mine = pd.read_csv('./attacked_data/combining_2_method/padding_obfs4.csv', index_col = [0])\n",
        "\n",
        "df_mal_web_mine.reset_index(drop=True)\n",
        "\n",
        "print(\"{} NAN in malicious\".format(len(df_malicious[df_malicious.isna().any(axis=1)])))\n",
        "print(\"{} NAN in benign\".format(len(df_benign[df_benign.isna().any(axis=1)])))\n",
        "\n",
        "df_malicious = df_malicious.dropna()\n",
        "df_benign = df_benign.dropna()\n",
        "\n",
        "start = timer()\n",
        "results_Raspberry_s1 = run_process(df_malicious,df_benign,df_results, df_mal_web_mine)\n",
        "end = timer()"
      ],
      "metadata": {
        "colab": {
          "base_uri": "https://localhost:8080/"
        },
        "id": "fIgbqBBtd8wE",
        "outputId": "b99c279f-e49e-4fc7-e124-9a32907abfb3"
      },
      "execution_count": null,
      "outputs": [
        {
          "output_type": "stream",
          "name": "stdout",
          "text": [
            "0 NAN in malicious\n",
            "0 NAN in benign\n"
          ]
        },
        {
          "output_type": "stream",
          "name": "stderr",
          "text": [
            "Feature Extraction: 100%|██████████| 20/20 [00:58<00:00,  2.91s/it]\n",
            "Feature Extraction: 100%|██████████| 20/20 [00:55<00:00,  2.80s/it]\n",
            "Feature Extraction: 100%|██████████| 20/20 [00:58<00:00,  2.91s/it]\n"
          ]
        },
        {
          "output_type": "stream",
          "name": "stdout",
          "text": [
            "relevance_table  (247, 4)\n",
            "relevance_table_changed_mal  (254, 4)\n",
            "let the ml starts\n",
            "SVM\n",
            "              precision    recall  f1-score   support\n",
            "\n",
            "   malignant       0.49      1.00      0.66      6701\n",
            "      benign       0.00      0.00      0.00      6858\n",
            "\n",
            "    accuracy                           0.49     13559\n",
            "   macro avg       0.25      0.50      0.33     13559\n",
            "weighted avg       0.24      0.49      0.33     13559\n",
            "\n"
          ]
        }
      ]
    },
    {
      "cell_type": "code",
      "source": [
        "### OBFS4 PROXY & SPLITTING\n",
        "\n",
        "df_malicious = pd.read_csv('./attacked_data/conventional_malicious_traffic2.csv', index_col = [0])\n",
        "df_benign = pd.read_csv('./attacked_data/benign_traffic2.csv', index_col = [0])\n",
        "df_mal_web_mine = pd.read_csv('./attacked_data/combining_2_method/splitting_obfs4.csv', index_col = [0])\n",
        "\n",
        "df_mal_web_mine.reset_index(drop=True)\n",
        "\n",
        "print(\"{} NAN in malicious\".format(len(df_malicious[df_malicious.isna().any(axis=1)])))\n",
        "print(\"{} NAN in benign\".format(len(df_benign[df_benign.isna().any(axis=1)])))\n",
        "\n",
        "df_malicious = df_malicious.dropna()\n",
        "df_benign = df_benign.dropna()\n",
        "\n",
        "start = timer()\n",
        "results_Raspberry_s1 = run_process(df_malicious,df_benign,df_results, df_mal_web_mine)\n",
        "end = timer()"
      ],
      "metadata": {
        "colab": {
          "base_uri": "https://localhost:8080/"
        },
        "id": "5jUI2_vte22k",
        "outputId": "6f0bdb99-e6f7-4d17-bc64-c2b5274b6d46"
      },
      "execution_count": null,
      "outputs": [
        {
          "output_type": "stream",
          "name": "stdout",
          "text": [
            "0 NAN in malicious\n",
            "0 NAN in benign\n"
          ]
        },
        {
          "output_type": "stream",
          "name": "stderr",
          "text": [
            "Feature Extraction: 100%|██████████| 20/20 [00:55<00:00,  2.78s/it]\n",
            "Feature Extraction: 100%|██████████| 20/20 [00:54<00:00,  2.75s/it]\n",
            "Feature Extraction: 100%|██████████| 20/20 [01:12<00:00,  3.64s/it]\n"
          ]
        },
        {
          "output_type": "stream",
          "name": "stdout",
          "text": [
            "relevance_table  (247, 4)\n",
            "relevance_table_changed_mal  (255, 4)\n",
            "let the ml starts\n",
            "SVM\n",
            "              precision    recall  f1-score   support\n",
            "\n",
            "   malignant       0.43      1.00      0.61      6701\n",
            "      benign       0.00      0.00      0.00      8723\n",
            "\n",
            "    accuracy                           0.43     15424\n",
            "   macro avg       0.22      0.50      0.30     15424\n",
            "weighted avg       0.19      0.43      0.26     15424\n",
            "\n"
          ]
        }
      ]
    },
    {
      "cell_type": "code",
      "source": [
        "### OBFS4 PROXY & PADDING & SPLITTING\n",
        "df_malicious = pd.read_csv('./attacked_data/conventional_malicious_traffic2.csv', index_col = [0])\n",
        "df_benign = pd.read_csv('./attacked_data/benign_traffic2.csv', index_col = [0])\n",
        "df_mal_web_mine = pd.read_csv('./attacked_data/combining_3_4_method/padding_splitting_obfs4.csv', index_col = [0])\n",
        "\n",
        "df_mal_web_mine.reset_index(drop=True)\n",
        "\n",
        "print(\"{} NAN in malicious\".format(len(df_malicious[df_malicious.isna().any(axis=1)])))\n",
        "print(\"{} NAN in benign\".format(len(df_benign[df_benign.isna().any(axis=1)])))\n",
        "\n",
        "df_malicious = df_malicious.dropna()\n",
        "df_benign = df_benign.dropna()\n",
        "\n",
        "start = timer()\n",
        "results_Raspberry_s1 = run_process(df_malicious,df_benign,df_results, df_mal_web_mine)\n",
        "end = timer()"
      ],
      "metadata": {
        "colab": {
          "base_uri": "https://localhost:8080/"
        },
        "id": "TUEN0ayKd8rf",
        "outputId": "217fbe7d-bb21-41e9-ce9e-f2147017d28e"
      },
      "execution_count": null,
      "outputs": [
        {
          "output_type": "stream",
          "name": "stdout",
          "text": [
            "0 NAN in malicious\n",
            "0 NAN in benign\n"
          ]
        },
        {
          "output_type": "stream",
          "name": "stderr",
          "text": [
            "Feature Extraction: 100%|██████████| 20/20 [01:01<00:00,  3.09s/it]\n",
            "Feature Extraction: 100%|██████████| 20/20 [00:56<00:00,  2.84s/it]\n",
            "Feature Extraction: 100%|██████████| 20/20 [01:16<00:00,  3.81s/it]\n"
          ]
        },
        {
          "output_type": "stream",
          "name": "stdout",
          "text": [
            "relevance_table  (247, 4)\n",
            "relevance_table_changed_mal  (256, 4)\n",
            "let the ml starts\n",
            "SVM\n",
            "              precision    recall  f1-score   support\n",
            "\n",
            "   malignant       0.43      1.00      0.61      6701\n",
            "      benign       0.00      0.00      0.00      8735\n",
            "\n",
            "    accuracy                           0.43     15436\n",
            "   macro avg       0.22      0.50      0.30     15436\n",
            "weighted avg       0.19      0.43      0.26     15436\n",
            "\n"
          ]
        }
      ]
    },
    {
      "cell_type": "code",
      "source": [
        "### OBFS4 & DUMMY PACKET & PADDING\n",
        "\n",
        "df_malicious = pd.read_csv('./attacked_data/conventional_malicious_traffic2.csv', index_col = [0])\n",
        "df_benign = pd.read_csv('./attacked_data/benign_traffic2.csv', index_col = [0])\n",
        "df_mal_web_mine = pd.read_csv('./attacked_data/combining_3_4_method/dummy_packet_padding_obfs4.csv', index_col = [0])\n",
        "\n",
        "df_mal_web_mine.reset_index(drop=True)\n",
        "\n",
        "print(\"{} NAN in malicious\".format(len(df_malicious[df_malicious.isna().any(axis=1)])))\n",
        "print(\"{} NAN in benign\".format(len(df_benign[df_benign.isna().any(axis=1)])))\n",
        "\n",
        "df_malicious = df_malicious.dropna()\n",
        "df_benign = df_benign.dropna()\n",
        "\n",
        "start = timer()\n",
        "results_Raspberry_s1 = run_process(df_malicious,df_benign,df_results, df_mal_web_mine)\n",
        "end = timer()"
      ],
      "metadata": {
        "colab": {
          "base_uri": "https://localhost:8080/"
        },
        "id": "nBUGp_o8d7XO",
        "outputId": "fa79fa20-ead8-407e-ecd8-66287d1df678"
      },
      "execution_count": null,
      "outputs": [
        {
          "output_type": "stream",
          "name": "stdout",
          "text": [
            "0 NAN in malicious\n",
            "0 NAN in benign\n"
          ]
        },
        {
          "output_type": "stream",
          "name": "stderr",
          "text": [
            "Feature Extraction: 100%|██████████| 20/20 [00:56<00:00,  2.83s/it]\n",
            "Feature Extraction: 100%|██████████| 20/20 [00:56<00:00,  2.81s/it]\n",
            "Feature Extraction: 100%|██████████| 20/20 [01:04<00:00,  3.21s/it]\n"
          ]
        },
        {
          "output_type": "stream",
          "name": "stdout",
          "text": [
            "relevance_table  (247, 4)\n",
            "relevance_table_changed_mal  (238, 4)\n",
            "let the ml starts\n",
            "SVM\n",
            "              precision    recall  f1-score   support\n",
            "\n",
            "   malignant       0.47      1.00      0.64      6701\n",
            "      benign       0.00      0.00      0.00      7540\n",
            "\n",
            "    accuracy                           0.47     14241\n",
            "   macro avg       0.24      0.50      0.32     14241\n",
            "weighted avg       0.22      0.47      0.30     14241\n",
            "\n"
          ]
        }
      ]
    },
    {
      "cell_type": "code",
      "source": [
        "### OBFS4 & DUMMY PACKET & SPLITTING\n",
        "\n",
        "df_malicious = pd.read_csv('./attacked_data/conventional_malicious_traffic2.csv', index_col = [0])\n",
        "df_benign = pd.read_csv('./attacked_data/benign_traffic2.csv', index_col = [0])\n",
        "df_mal_web_mine = pd.read_csv('./attacked_data/combining_3_4_method/dummy_packet_splitting_obfs4.csv', index_col = [0])\n",
        "\n",
        "df_mal_web_mine.reset_index(drop=True)\n",
        "\n",
        "print(\"{} NAN in malicious\".format(len(df_malicious[df_malicious.isna().any(axis=1)])))\n",
        "print(\"{} NAN in benign\".format(len(df_benign[df_benign.isna().any(axis=1)])))\n",
        "\n",
        "df_malicious = df_malicious.dropna()\n",
        "df_benign = df_benign.dropna()\n",
        "\n",
        "start = timer()\n",
        "results_Raspberry_s1 = run_process(df_malicious,df_benign,df_results, df_mal_web_mine)\n",
        "end = timer()"
      ],
      "metadata": {
        "colab": {
          "base_uri": "https://localhost:8080/"
        },
        "id": "LUeLCiGCfDsF",
        "outputId": "74bc2e2f-3f00-4f8c-db29-c532c992d882"
      },
      "execution_count": null,
      "outputs": [
        {
          "output_type": "stream",
          "name": "stdout",
          "text": [
            "0 NAN in malicious\n",
            "0 NAN in benign\n"
          ]
        },
        {
          "output_type": "stream",
          "name": "stderr",
          "text": [
            "Feature Extraction: 100%|██████████| 20/20 [01:01<00:00,  3.07s/it]\n",
            "Feature Extraction: 100%|██████████| 20/20 [01:01<00:00,  3.08s/it]\n",
            "Feature Extraction: 100%|██████████| 20/20 [01:22<00:00,  4.11s/it]\n"
          ]
        },
        {
          "output_type": "stream",
          "name": "stdout",
          "text": [
            "relevance_table  (247, 4)\n",
            "relevance_table_changed_mal  (238, 4)\n",
            "let the ml starts\n",
            "SVM\n",
            "              precision    recall  f1-score   support\n",
            "\n",
            "   malignant       0.42      1.00      0.59      6701\n",
            "      benign       0.00      0.00      0.00      9406\n",
            "\n",
            "    accuracy                           0.42     16107\n",
            "   macro avg       0.21      0.50      0.29     16107\n",
            "weighted avg       0.17      0.42      0.24     16107\n",
            "\n"
          ]
        }
      ]
    },
    {
      "cell_type": "code",
      "source": [
        "### packet obfs4 proxy & insertion & splitting & replacement \n",
        "## combine all\n",
        "df_malicious = pd.read_csv('./attacked_data/conventional_malicious_traffic2.csv', index_col = [0])\n",
        "df_benign = pd.read_csv('./attacked_data/benign_traffic2.csv', index_col = [0])\n",
        "df_mal_web_mine = pd.read_csv('./attacked_data/combining_3_4_method/all_combined.csv', index_col = [0])\n",
        "\n",
        "df_mal_web_mine.reset_index(drop=True)\n",
        "\n",
        "print(\"{} NAN in malicious\".format(len(df_malicious[df_malicious.isna().any(axis=1)])))\n",
        "print(\"{} NAN in benign\".format(len(df_benign[df_benign.isna().any(axis=1)])))\n",
        "\n",
        "df_malicious = df_malicious.dropna()\n",
        "df_benign = df_benign.dropna()\n",
        "\n",
        "start = timer()\n",
        "results_Raspberry_s1 = run_process(df_malicious,df_benign,df_results, df_mal_web_mine)\n",
        "end = timer()"
      ],
      "metadata": {
        "colab": {
          "base_uri": "https://localhost:8080/"
        },
        "id": "-3ZZt5Izd7Qp",
        "outputId": "75301b13-8469-49b0-d0f5-898b9ebecf9a"
      },
      "execution_count": null,
      "outputs": [
        {
          "output_type": "stream",
          "name": "stdout",
          "text": [
            "0 NAN in malicious\n",
            "0 NAN in benign\n"
          ]
        },
        {
          "output_type": "stream",
          "name": "stderr",
          "text": [
            "Feature Extraction: 100%|██████████| 20/20 [01:02<00:00,  3.11s/it]\n",
            "Feature Extraction: 100%|██████████| 20/20 [01:03<00:00,  3.16s/it]\n",
            "Feature Extraction: 100%|██████████| 20/20 [01:13<00:00,  3.67s/it]\n"
          ]
        },
        {
          "output_type": "stream",
          "name": "stdout",
          "text": [
            "relevance_table  (247, 4)\n",
            "relevance_table_changed_mal  (243, 4)\n",
            "let the ml starts\n",
            "SVM\n",
            "              precision    recall  f1-score   support\n",
            "\n",
            "   malignant       0.45      1.00      0.62      6701\n",
            "      benign       0.00      0.00      0.00      8309\n",
            "\n",
            "    accuracy                           0.45     15010\n",
            "   macro avg       0.22      0.50      0.31     15010\n",
            "weighted avg       0.20      0.45      0.28     15010\n",
            "\n"
          ]
        }
      ]
    }
  ],
  "metadata": {
    "accelerator": "GPU",
    "colab": {
      "background_execution": "on",
      "collapsed_sections": [],
      "machine_shape": "hm",
      "name": "Defeating IoT Cryptojacking Detection System",
      "provenance": [],
      "mount_file_id": "1TAUIzNy2mfbZLBnRTyfHzvFg3i07QG1G",
      "authorship_tag": "ABX9TyOS6c8DB0h3fK9qm4U7LCe+",
      "include_colab_link": true
    },
    "gpuClass": "standard",
    "kernelspec": {
      "display_name": "Python 3",
      "name": "python3"
    },
    "language_info": {
      "name": "python"
    }
  },
  "nbformat": 4,
  "nbformat_minor": 0
}